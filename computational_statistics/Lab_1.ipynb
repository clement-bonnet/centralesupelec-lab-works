{
 "cells": [
  {
   "cell_type": "markdown",
   "metadata": {},
   "source": [
    "# Lab 1: Reminder on Markov Chain - Stochastic gradient descent"
   ]
  },
  {
   "cell_type": "markdown",
   "metadata": {},
   "source": [
    "---\n",
    "## Computational statistics lab 1\n",
    "## Author: Clément Bonnet\n",
    "## Date: 18/10/2020"
   ]
  },
  {
   "cell_type": "markdown",
   "metadata": {},
   "source": [
    "***"
   ]
  },
  {
   "cell_type": "markdown",
   "metadata": {},
   "source": [
    "## Exercise 1: Box-Muller and Marsaglia-Bray algorithm"
   ]
  },
  {
   "cell_type": "markdown",
   "metadata": {},
   "source": [
    "$$\n",
    "\\begin{align}\n",
    "\\Theta\n",
    "&\\sim U(0;2\\pi) \\\\\n",
    "R\n",
    "&\\sim Rayleigh(1) \\\\\n",
    "\\end{align}\n",
    "$$\n",
    "$$\n",
    "\\forall r \\in \\mathbb{R},  f_R(r) = r\\exp\\Big(-\\frac{r^2}{2}\\Big) \\mathbb{1}_{\\mathbb{R}^+}(r)\n",
    "$$"
   ]
  },
  {
   "cell_type": "markdown",
   "metadata": {},
   "source": [
    "### $1.$ Prove that both X and Y have $N(0,1)$ distribution and are independent.\n",
    "$$\n",
    "\\begin{align}\n",
    "X &= Rcos(\\Theta) \\\\\n",
    "Y &= Rsin(\\Theta)\n",
    "\\end{align}\n",
    "$$"
   ]
  },
  {
   "cell_type": "markdown",
   "metadata": {},
   "source": [
    "$$\n",
    "\\begin{align}\n",
    "\\forall h,\\ E[h(X,Y)]\n",
    "&= \\int_0^{\\infty}\\int_0^{2\\pi} h(r\\cos(\\theta),r\\sin(\\theta))re^{-\\frac{r^2}{2}}\\frac{1}{2\\pi} dr d\\theta \\\\\n",
    "&= \\int_{\\mathbb{R}^2}\\frac{1}{2\\pi}h(x,y)e^{-\\frac{x^2+y^2}{2}}dxdy \\\\\n",
    "&= E[h(N_1,N_2)]\n",
    "\\end{align}\n",
    "$$"
   ]
  },
  {
   "cell_type": "markdown",
   "metadata": {},
   "source": [
    "$$\n",
    "\\begin{pmatrix}N_1\\\\N_2\\end{pmatrix} \\sim N\\bigg(\\begin{pmatrix}0\\\\0\\end{pmatrix}, I_2\\bigg)\n",
    "$$\n",
    "$X$ and $Y$ are independant since they are Gaussian and their correlation is null."
   ]
  },
  {
   "cell_type": "markdown",
   "metadata": {},
   "source": [
    "### $2.$ Write an algorithm that samples independent Gaussian distribution $N(0,1)$."
   ]
  },
  {
   "cell_type": "markdown",
   "metadata": {},
   "source": [
    "- Simulate $\\Theta \\sim U(0,2\\pi)$ -> easy\n",
    "- Simulate $R \\sim Rayleigh(1)$ -> hard\n",
    "- Compute $(R\\cos(\\Theta),R\\sin(\\Theta))$ -> easy"
   ]
  },
  {
   "cell_type": "markdown",
   "metadata": {},
   "source": [
    "One can simulate $R \\sim Rayleigh(1)$ using its inverse cumulative distribution function applied to a variable following a uniform distribution."
   ]
  },
  {
   "cell_type": "markdown",
   "metadata": {},
   "source": [
    "$$\n",
    "\\begin{align}\n",
    "F_R(r)\n",
    "&= \\int_{-\\infty}^r\\mathbb{1}_{t \\ge 0}te^{-\\frac{t^2}{2}}dt \\\\\n",
    "&= 1 - e^{-\\frac{r^2}{2}}\n",
    "\\end{align}\n",
    "$$"
   ]
  },
  {
   "cell_type": "markdown",
   "metadata": {},
   "source": [
    "$$\n",
    "u = 1 - e^{-\\frac{r^2}{2}} \\iff r = \\sqrt{-2\\ln(1-u)}\n",
    "$$"
   ]
  },
  {
   "cell_type": "markdown",
   "metadata": {},
   "source": [
    "$$\n",
    "U \\sim U(0,1) \\implies \\sqrt{-2\\ln(U)} \\sim Rayleigh(1)\n",
    "$$"
   ]
  },
  {
   "cell_type": "markdown",
   "metadata": {},
   "source": [
    "Therefore, the final algorithm is:\n",
    "- Simulate $\\Theta \\sim U(0,2\\pi)$\n",
    "- Simulate $U \\sim U(0,1)$\n",
    "- Compute $\\boxed{\\begin{pmatrix}N_1\\\\N_2\\end{pmatrix} = \\begin{pmatrix}\\sqrt{-2\\ln(U)}\\cos(\\Theta)\\\\\\sqrt{-2\\ln(U)}\\sin(\\Theta)\\end{pmatrix} \\sim N\\bigg(\\begin{pmatrix}0\\\\0\\end{pmatrix}, I_2\\bigg)}$"
   ]
  },
  {
   "cell_type": "markdown",
   "metadata": {},
   "source": [
    "### $3.$ Marsaglia-Bray algorithm."
   ]
  },
  {
   "cell_type": "markdown",
   "metadata": {},
   "source": [
    "#### a) Distribution of $(V_1, V_2)$."
   ]
  },
  {
   "cell_type": "markdown",
   "metadata": {},
   "source": [
    "At the end of the \"while\" loop, $(V_1, V_2) \\sim U(circle)$ "
   ]
  },
  {
   "cell_type": "markdown",
   "metadata": {},
   "source": [
    "#### b) Show $T$ and $V$ are independent and give their laws. "
   ]
  },
  {
   "cell_type": "markdown",
   "metadata": {},
   "source": [
    "$$\n",
    "T = \\frac{V_1}{\\sqrt{V_1^2 + V_2^2}} \\quad \\textrm{and} \\quad  V = V_1^2 + V_2^2\n",
    "$$"
   ]
  },
  {
   "cell_type": "markdown",
   "metadata": {},
   "source": [
    "With a change of variable:\n",
    "$\n",
    "\\begin{cases}\n",
    "    t &= \\frac{v_1}{v_1^2 + v_2^2}\\\\\n",
    "    v &= v_1^2 + v_2^2\n",
    "\\end{cases}\n",
    "\\iff\n",
    "\\begin{cases}\n",
    "    v_1 &= t\\sqrt{v}\\\\\n",
    "    v_2 &= \\sqrt{v}\\sqrt{1-t^2}\n",
    "\\end{cases}\n",
    "\\quad ,\n",
    "$\n",
    "$$\n",
    "\\begin{align}\n",
    "\\forall h,\\ E[h(T,V)]\n",
    "&= 2\\int_{_1}^1\\int_0^1\\frac{1}{\\pi}h(t,v)|J|dtdv\n",
    "\\end{align}\n",
    "$$"
   ]
  },
  {
   "cell_type": "markdown",
   "metadata": {},
   "source": [
    "$$\n",
    "\\begin{cases}\n",
    "    dv_1 &= \\sqrt{v}dt + \\frac{t}{2\\sqrt{v}}dv \\\\\n",
    "    dv_2 &= \\frac{-t}{\\sqrt{1-t^2}}\\sqrt{v}dt + \\frac{\\sqrt{1-t^2}}{2\\sqrt{v}}dv \\\\\n",
    "\\end{cases}\n",
    "\\textrm{Jacobian determinant: } |J| = \\frac{1}{2\\sqrt{1-t^2}}\n",
    "$$"
   ]
  },
  {
   "cell_type": "markdown",
   "metadata": {},
   "source": [
    "Therefore,\n",
    "$$\n",
    "\\forall h,\\ E[h(T,V)]\n",
    "= \\int_{_1}^1\\int_0^1\\frac{1}{\\pi}h(t,v)\\frac{1}{\\sqrt{1-t^2}}dtdv\n",
    "$$"
   ]
  },
  {
   "cell_type": "markdown",
   "metadata": {},
   "source": [
    "$$\n",
    "f_{T,V}(t,v) = \\mathbb{1}_{[0,1]}(v) . \\frac{1}{\\pi\\sqrt{1-t^2}}\\mathbb{1}_{[-1,1]}(t) = f_V(v).f_T(t)\n",
    "$$"
   ]
  },
  {
   "cell_type": "markdown",
   "metadata": {},
   "source": [
    "It is clear that $V$ and $T$ are independant and $V \\sim U(0,1)$. What is the law of $T$ on $[-1,1]$?"
   ]
  },
  {
   "cell_type": "markdown",
   "metadata": {},
   "source": [
    "$$\n",
    "\\begin{align}\n",
    "\\forall h,\\ E[h(T)]\n",
    "&= \\int_{-1}^1\\frac{1}{\\pi\\sqrt{1-t^2}}h(t)dt \\\\\n",
    "&= \\int_0^\\pi \\frac{1}{\\pi} h(\\cos(\\theta))d\\theta \\\\\n",
    "&= \\int_0^{2\\pi} \\frac{1}{2\\pi} h(\\cos(\\theta))d\\theta \\\\\n",
    "\\end{align}\n",
    "$$"
   ]
  },
  {
   "cell_type": "markdown",
   "metadata": {},
   "source": [
    "The law of $T$ is the law of $\\cos(\\Theta)$ with $\\Theta \\sim U(0,2\\pi)$."
   ]
  },
  {
   "cell_type": "markdown",
   "metadata": {},
   "source": [
    "#### c) Distribution of $(X,Y)$? "
   ]
  },
  {
   "cell_type": "markdown",
   "metadata": {},
   "source": [
    "$$\n",
    "\\begin{cases}\n",
    "    X &= ST\\\\\n",
    "    Y &= S\\sqrt{1-T^2}\n",
    "\\end{cases}\n",
    "\\iff\n",
    "\\begin{cases}\n",
    "    X &= \\sqrt{-2\\ln(V)}\\cos(\\Theta)\\\\\n",
    "    Y &= \\sqrt{-2\\ln(V)}\\sin(\\Theta)\n",
    "\\end{cases}\n",
    "$$"
   ]
  },
  {
   "cell_type": "markdown",
   "metadata": {},
   "source": [
    "Since $V \\sim U(0,1)$ and $\\Theta \\sim U(0,2\\pi)$, as it was done in question $1$, one can conclude that:"
   ]
  },
  {
   "cell_type": "markdown",
   "metadata": {},
   "source": [
    "$$\n",
    "\\boxed{\\begin{pmatrix}X\\\\Y\\end{pmatrix} \\sim N\\bigg(\\begin{pmatrix}0\\\\0\\end{pmatrix}, I_2\\bigg)}\n",
    "$$"
   ]
  },
  {
   "cell_type": "markdown",
   "metadata": {},
   "source": [
    "#### d) Acceptance probability of the test of the \"while\" loop?"
   ]
  },
  {
   "cell_type": "markdown",
   "metadata": {},
   "source": [
    "$$\n",
    "p = \\frac{A(B(0,1)}{A([-1,1]*[-1,1])} = \\frac{\\pi}{4}\n",
    "$$"
   ]
  },
  {
   "cell_type": "code",
   "execution_count": 1,
   "metadata": {},
   "outputs": [
    {
     "name": "stdout",
     "output_type": "stream",
     "text": [
      "The acceptance probability is 0.785\n"
     ]
    }
   ],
   "source": [
    "import math\n",
    "print(\"The acceptance probability is {:.3f}\".format(math.pi/4))"
   ]
  },
  {
   "cell_type": "markdown",
   "metadata": {},
   "source": [
    "***"
   ]
  },
  {
   "cell_type": "markdown",
   "metadata": {},
   "source": [
    "## Exercise 3: Stochastic Gradient Learning in Neural Networks"
   ]
  },
  {
   "cell_type": "markdown",
   "metadata": {},
   "source": [
    "### $1.$ Stochastic gradient descent algorithm."
   ]
  },
  {
   "cell_type": "markdown",
   "metadata": {},
   "source": [
    "The goal is to minimize the expected risk:"
   ]
  },
  {
   "cell_type": "markdown",
   "metadata": {},
   "source": [
    "$$\n",
    "R(w) = E[J(w, z)] \\\\\n",
    "\\textrm{with}\\quad J(w, z) = \\frac{1}{2}(w^Tx - y)^2\n",
    "$$"
   ]
  },
  {
   "cell_type": "markdown",
   "metadata": {},
   "source": [
    "Computing the expected value is often tricky or computational intensive. Hence, one can approach the expected risk with a Monte Carlo approach over the examples in the training set."
   ]
  },
  {
   "cell_type": "markdown",
   "metadata": {},
   "source": [
    "$$\n",
    "R(w) \\approx \\frac{1}{n} \\sum_{i=1}^nl(x_i,y_i)\n",
    "$$"
   ]
  },
  {
   "cell_type": "markdown",
   "metadata": {},
   "source": [
    "With $l(x_i, y_i) = \\frac{1}{2}(w^Tx_i - y_i)^2$. <br>\n",
    "The stochastic gradient descent algorithm samples individual or batches of observations $(x_i, y_i)$ and tune $w$ in the direction of a decrease of $l(x_i, y_i)$."
   ]
  },
  {
   "cell_type": "markdown",
   "metadata": {},
   "source": [
    "$$\n",
    "w_{k+1} = w_k - \\alpha_k\\nabla_wl(x_i, y_i)\n",
    "$$"
   ]
  },
  {
   "cell_type": "markdown",
   "metadata": {},
   "source": [
    "$(w_k)_{k \\in \\mathbb{N}}$ will converge to $w^* = \\min_{w} R(w)$, assuming the learning rate $\\alpha_k$ decays over time and verifies the following properties:"
   ]
  },
  {
   "cell_type": "markdown",
   "metadata": {},
   "source": [
    "$$\n",
    "\\begin{align}\n",
    "\\sum_k \\alpha_k &= +\\infty \\\\\n",
    "\\sum_k \\alpha_k^2 &\\lt \\infty\n",
    "\\end{align}\n",
    "$$"
   ]
  },
  {
   "cell_type": "markdown",
   "metadata": {},
   "source": [
    "$\\alpha_k = \\frac{\\alpha}{k}$ is a good theoretical candidate."
   ]
  },
  {
   "cell_type": "markdown",
   "metadata": {},
   "source": [
    "Here, in a linear classification context, $\\nabla_wl(x_i, y_i) = (w^Tx_i - y_i)x_i$"
   ]
  },
  {
   "cell_type": "markdown",
   "metadata": {},
   "source": [
    "Hence, the gradient descent step is the following: $\\boxed{w_{k+1} = w_k - \\frac{\\alpha}{k}(w^Tx_i - y_i)x_i}$"
   ]
  },
  {
   "cell_type": "markdown",
   "metadata": {},
   "source": [
    "The algorithm keeps updating the value until a stopping criteria is met. For instance, one can track the update in weights and stop when it is too small. Let us now implement the algorithm in Python."
   ]
  },
  {
   "cell_type": "code",
   "execution_count": 2,
   "metadata": {},
   "outputs": [],
   "source": [
    "import matplotlib.pyplot as plt\n",
    "import numpy as np\n",
    "import pandas as pd\n",
    "from IPython.display import Markdown as md"
   ]
  },
  {
   "cell_type": "code",
   "execution_count": 3,
   "metadata": {},
   "outputs": [],
   "source": [
    "def gradient_step(X, Y, alpha, w, k, k_z):\n",
    "    \"\"\"\n",
    "    Implemented using Numpy arrays.\n",
    "    Returns the updated parameter vector after taking one stochastic gradient step.\n",
    "    \"\"\"\n",
    "    i = np.random.choice(X.shape[0])\n",
    "    return w - alpha/(k+k_z)*(w.transpose()@X[i,:] - Y[i])*X[i,:]\n",
    "\n",
    "def loss_fn(X, Y, w):\n",
    "    \"\"\"\n",
    "    Returns the loss function for the dataset. Equivalent to the empirical risk.\n",
    "    \"\"\"\n",
    "    return 1/(X.shape[0])*np.linalg.norm(Y-X@w)**2\n",
    "    \n",
    "def stochastic_gradient_descent(X, Y, alpha, tol=10**-5, k_z=10, verbose=True, print_iter=1000):\n",
    "    \"\"\"\n",
    "    X is a Numpy arrays of shape (nb_observations, nb_features) containing the data set.\n",
    "    Y is a Numpy arrays of shape (nb_observations,) containing the labels.\n",
    "    Returns the optimized weights w that fit the training set X to the labels Y.\n",
    "    \"\"\"\n",
    "    w = np.zeros(X.shape[1]) # initialization of weights\n",
    "    stop = False         # stopping criterion\n",
    "    loss = loss_fn(X, Y, w)\n",
    "    if verbose: print(\"Iteration 0, loss: {:.5f}\".format(loss))\n",
    "    it = 0\n",
    "    while not stop:\n",
    "        it += 1\n",
    "        w = gradient_step(X, Y, alpha, w, k=it, k_z=k_z)   # taking one stochastic gradient descent step\n",
    "        if it % print_iter == 0:\n",
    "            prev_loss = loss\n",
    "            loss = loss_fn(X, Y, w)\n",
    "            if verbose: print(\"Iteration {}, loss: {:.5f}\".format(it, loss))\n",
    "            if abs(loss - prev_loss) < tol*prev_loss:    # if the loss is rouglhy the same after 1000 iterations, the algorithm stops\n",
    "                stop = True\n",
    "    return w"
   ]
  },
  {
   "cell_type": "markdown",
   "metadata": {},
   "source": [
    "### $2.$ Creation of a data set."
   ]
  },
  {
   "cell_type": "code",
   "execution_count": 4,
   "metadata": {},
   "outputs": [],
   "source": [
    "def dataset(n):\n",
    "    \"\"\"\n",
    "    Creates a random dataset in R^2 and a random hyperplane that linearly\n",
    "    separate the datasets in two classes.\n",
    "    Returns (X, Y, w): the dataset X, the labels Y and the normal vector of\n",
    "    the separating hyperplane w.\n",
    "    \"\"\"\n",
    "    X = 2*np.random.rand(n,2) - 1   # generates n points in [-1,1]^2\n",
    "    w = 2*np.random.rand(2) - 1     # generates a random normal vector\n",
    "    Y = 2*(X@w > 0).astype(int) - 1 # generates labels depending on the hyperplane\n",
    "    return (X, Y, w)"
   ]
  },
  {
   "cell_type": "code",
   "execution_count": 5,
   "metadata": {},
   "outputs": [],
   "source": [
    "# Dataset generation\n",
    "n = 100\n",
    "X, Y, w = dataset(n)"
   ]
  },
  {
   "cell_type": "code",
   "execution_count": 6,
   "metadata": {},
   "outputs": [],
   "source": [
    "def visualization(X, Y, w, linestyle=\"solid\"):\n",
    "    colors = [\"red\", \"green\"]\n",
    "    markers = [\"o\", \"+\"]\n",
    "    labels = [-1,1]\n",
    "    for color, marker, label in zip(colors, markers, labels):\n",
    "        plt.scatter(X[:,0][Y==label], X[:,1][Y==label], c=color, marker=marker)\n",
    "    plt.plot(np.linspace(-1,1,2), np.linspace(-1,1,2)*(-w[0]/w[1]), linestyle=linestyle, linewidth=3)\n",
    "    plt.ylim(-1, 1);"
   ]
  },
  {
   "cell_type": "code",
   "execution_count": 7,
   "metadata": {},
   "outputs": [
    {
     "data": {
      "image/png": "[encoded data removed]",
      "text/plain": [
       "<Figure size 432x288 with 1 Axes>"
      ]
     },
     "metadata": {
      "needs_background": "light"
     },
     "output_type": "display_data"
    }
   ],
   "source": [
    "# Visualization of the dataset\n",
    "visualization(X, Y, w)"
   ]
  },
  {
   "cell_type": "markdown",
   "metadata": {},
   "source": [
    "### $3.$ Test of the stochastic gradient descent algorithm."
   ]
  },
  {
   "cell_type": "code",
   "execution_count": 8,
   "metadata": {},
   "outputs": [],
   "source": [
    "# stochastic gradient algorithm on X and Y with a learning rate of 1/k\n",
    "w_est = stochastic_gradient_descent(X, Y, alpha=1, tol=10**-6, verbose=False)"
   ]
  },
  {
   "cell_type": "code",
   "execution_count": 9,
   "metadata": {},
   "outputs": [
    {
     "data": {
      "text/plain": [
       "0.019004296537311467"
      ]
     },
     "execution_count": 9,
     "metadata": {},
     "output_type": "execute_result"
    }
   ],
   "source": [
    "w_est_norm = w_est/np.linalg.norm(w_est)\n",
    "w_norm = w/np.linalg.norm(w)\n",
    "# Difference between estimated w and real w\n",
    "np.linalg.norm(w_est_norm - w_norm)"
   ]
  },
  {
   "cell_type": "markdown",
   "metadata": {},
   "source": [
    "The difference between the estimated $w^*$ and the real $\\bar w$ is very small."
   ]
  },
  {
   "cell_type": "code",
   "execution_count": 10,
   "metadata": {},
   "outputs": [
    {
     "data": {
      "image/png": "[encoded data removed]",
      "text/plain": [
       "<Figure size 432x288 with 1 Axes>"
      ]
     },
     "metadata": {
      "needs_background": "light"
     },
     "output_type": "display_data"
    }
   ],
   "source": [
    "# Visualization of the estimated w\n",
    "visualization(X, Y, w_est, linestyle=\"dashed\")"
   ]
  },
  {
   "cell_type": "markdown",
   "metadata": {},
   "source": [
    "The vector $w^*$ learnt by the stochastic gradient descent algorithm is capable of separating the dataset as $\\bar w$ is able to."
   ]
  },
  {
   "cell_type": "markdown",
   "metadata": {},
   "source": [
    "### $4.$ Adding Gaussian noise to the dataset."
   ]
  },
  {
   "cell_type": "code",
   "execution_count": 11,
   "metadata": {},
   "outputs": [],
   "source": [
    "# Adding Gaussian noise to current dataset\n",
    "sigma = 0.2  # variance of the noise\n",
    "X = X + sigma*np.random.randn(*X.shape)"
   ]
  },
  {
   "cell_type": "code",
   "execution_count": 12,
   "metadata": {},
   "outputs": [
    {
     "data": {
      "image/png": "[encoded data removed]",
      "text/plain": [
       "<Figure size 432x288 with 1 Axes>"
      ]
     },
     "metadata": {
      "needs_background": "light"
     },
     "output_type": "display_data"
    }
   ],
   "source": [
    "visualization(X, Y, w)"
   ]
  },
  {
   "cell_type": "code",
   "execution_count": 13,
   "metadata": {},
   "outputs": [],
   "source": [
    "# stochastic gradient algorithm on X and Y with a learning rate of 1/k\n",
    "w_est = stochastic_gradient_descent(X, Y, alpha=1, tol=10**-6, verbose=False)"
   ]
  },
  {
   "cell_type": "code",
   "execution_count": 14,
   "metadata": {},
   "outputs": [
    {
     "data": {
      "text/plain": [
       "0.010051032805105463"
      ]
     },
     "execution_count": 14,
     "metadata": {},
     "output_type": "execute_result"
    }
   ],
   "source": [
    "w_est_norm = w_est/np.linalg.norm(w_est)\n",
    "w_norm = w/np.linalg.norm(w)\n",
    "# Difference between estimated w and real w\n",
    "np.linalg.norm(w_est_norm - w_norm)"
   ]
  },
  {
   "cell_type": "code",
   "execution_count": 15,
   "metadata": {},
   "outputs": [
    {
     "data": {
      "image/png": "[encoded data removed]",
      "text/plain": [
       "<Figure size 432x288 with 1 Axes>"
      ]
     },
     "metadata": {
      "needs_background": "light"
     },
     "output_type": "display_data"
    }
   ],
   "source": [
    "# Visualization of the estimated w\n",
    "visualization(X, Y, w_est, linestyle=\"dashed\")"
   ]
  },
  {
   "cell_type": "markdown",
   "metadata": {},
   "source": [
    "Even with noisy data, the algorithm manages to approach the oracle value $\\bar w$ of $w$, finding a good estimated value $w^*$."
   ]
  },
  {
   "cell_type": "markdown",
   "metadata": {},
   "source": [
    "### $5.$ Breast Cancer Wisconsin Data Set."
   ]
  },
  {
   "cell_type": "code",
   "execution_count": 16,
   "metadata": {},
   "outputs": [],
   "source": [
    "# loading the dataset\n",
    "df = pd.read_csv(\"wdbc.data\", header=None).set_index(0)"
   ]
  },
  {
   "cell_type": "code",
   "execution_count": 17,
   "metadata": {},
   "outputs": [],
   "source": [
    "X, Y = df.drop(columns=1), 2*((df[1]==\"M\").astype(int))-1"
   ]
  },
  {
   "cell_type": "code",
   "execution_count": 18,
   "metadata": {},
   "outputs": [],
   "source": [
    "X_norm = (X - X.mean()) / (X.max() - X.min())"
   ]
  },
  {
   "cell_type": "code",
   "execution_count": 19,
   "metadata": {},
   "outputs": [
    {
     "data": {
      "text/plain": [
       "((569, 30), (569,))"
      ]
     },
     "execution_count": 19,
     "metadata": {},
     "output_type": "execute_result"
    }
   ],
   "source": [
    "X = X.to_numpy()\n",
    "Y = Y.to_numpy()\n",
    "X.shape, Y.shape"
   ]
  },
  {
   "cell_type": "code",
   "execution_count": 20,
   "metadata": {},
   "outputs": [],
   "source": [
    "w = stochastic_gradient_descent(X, Y, alpha=0.00001, tol=10**-6, verbose=False)"
   ]
  },
  {
   "cell_type": "code",
   "execution_count": 21,
   "metadata": {},
   "outputs": [],
   "source": [
    "# metrics functions\n",
    "\n",
    "def prediction(X, w):\n",
    "    return 2*((X@w > 0).astype(int)) - 1\n",
    "\n",
    "def accuracy(X, Y, w):\n",
    "    acc = prediction(X, w) == Y\n",
    "    return sum(acc)/len(acc)"
   ]
  },
  {
   "cell_type": "code",
   "execution_count": 22,
   "metadata": {},
   "outputs": [
    {
     "data": {
      "text/markdown": [
       "Accuracy on the training set: **90.3%**"
      ],
      "text/plain": [
       "<IPython.core.display.Markdown object>"
      ]
     },
     "execution_count": 22,
     "metadata": {},
     "output_type": "execute_result"
    }
   ],
   "source": [
    "md(\"Accuracy on the training set: **{:.1f}%**\".format(100*accuracy(X, Y, w)))"
   ]
  }
 ],
 "metadata": {
  "kernelspec": {
   "display_name": "Python 3",
   "language": "python",
   "name": "python3"
  },
  "language_info": {
   "codemirror_mode": {
    "name": "ipython",
    "version": 3
   },
   "file_extension": ".py",
   "mimetype": "text/x-python",
   "name": "python",
   "nbconvert_exporter": "python",
   "pygments_lexer": "ipython3",
   "version": "3.7.7"
  }
 },
 "nbformat": 4,
 "nbformat_minor": 4
}
